{
 "cells": [
  {
   "cell_type": "code",
   "execution_count": 1,
   "id": "7335ee01",
   "metadata": {
    "ExecuteTime": {
     "end_time": "2024-01-24T08:01:22.613168500Z",
     "start_time": "2024-01-24T08:01:22.445065100Z"
    }
   },
   "outputs": [],
   "source": [
    "import numpy as np"
   ]
  },
  {
   "cell_type": "code",
   "execution_count": 2,
   "id": "d078b284",
   "metadata": {
    "ExecuteTime": {
     "end_time": "2024-01-24T08:01:22.631815600Z",
     "start_time": "2024-01-24T08:01:22.606793200Z"
    }
   },
   "outputs": [
    {
     "data": {
      "text/plain": "0.04002091128285867"
     },
     "execution_count": 2,
     "metadata": {},
     "output_type": "execute_result"
    }
   ],
   "source": [
    "np.random.uniform(0,2)"
   ]
  },
  {
   "cell_type": "code",
   "execution_count": 3,
   "id": "729d234b",
   "metadata": {
    "ExecuteTime": {
     "end_time": "2024-01-24T08:01:22.698862900Z",
     "start_time": "2024-01-24T08:01:22.622295600Z"
    }
   },
   "outputs": [
    {
     "data": {
      "text/plain": "5.707616564868153"
     },
     "execution_count": 3,
     "metadata": {},
     "output_type": "execute_result"
    }
   ],
   "source": [
    "np.random.uniform(0, 10)"
   ]
  },
  {
   "cell_type": "code",
   "execution_count": 4,
   "id": "7f5ec7ef",
   "metadata": {
    "ExecuteTime": {
     "end_time": "2024-01-24T08:01:22.699865900Z",
     "start_time": "2024-01-24T08:01:22.663039Z"
    }
   },
   "outputs": [
    {
     "data": {
      "text/plain": "0.6534718340928041"
     },
     "execution_count": 4,
     "metadata": {},
     "output_type": "execute_result"
    }
   ],
   "source": [
    "np.random.uniform(0, 1)"
   ]
  },
  {
   "cell_type": "code",
   "execution_count": 4,
   "id": "bdd3c1be",
   "metadata": {
    "ExecuteTime": {
     "end_time": "2024-01-24T08:01:22.699865900Z",
     "start_time": "2024-01-24T08:01:22.670144400Z"
    }
   },
   "outputs": [],
   "source": []
  },
  {
   "cell_type": "code",
   "execution_count": null,
   "outputs": [],
   "source": [],
   "metadata": {
    "collapsed": false
   }
  }
 ],
 "metadata": {
  "kernelspec": {
   "display_name": "Python 3 (ipykernel)",
   "language": "python",
   "name": "python3"
  },
  "language_info": {
   "codemirror_mode": {
    "name": "ipython",
    "version": 3
   },
   "file_extension": ".py",
   "mimetype": "text/x-python",
   "name": "python",
   "nbconvert_exporter": "python",
   "pygments_lexer": "ipython3",
   "version": "3.11.4"
  }
 },
 "nbformat": 4,
 "nbformat_minor": 5
}
